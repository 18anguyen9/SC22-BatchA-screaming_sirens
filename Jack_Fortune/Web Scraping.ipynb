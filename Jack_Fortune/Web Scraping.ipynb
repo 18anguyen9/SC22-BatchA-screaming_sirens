{
 "cells": [
  {
   "cell_type": "code",
   "execution_count": 16,
   "metadata": {
    "collapsed": false
   },
   "outputs": [
    {
     "name": "stdout",
     "output_type": "stream",
     "text": [
      "https://serpapi.com/search\n"
     ]
    },
    {
     "name": "stdout",
     "output_type": "stream",
     "text": [
      "Downloading 0 image...\n",
      "https://s3.amazonaws.com/fzautomotive/dealers/611c0e41d27a8.jpg\n"
     ]
    },
    {
     "name": "stdout",
     "output_type": "stream",
     "text": [
      "Downloading 1 image...\n",
      "https://content.homenetiol.com/698/2163991/640x480/cf6ee59bd5f64946ab6a853b6a29e7ea.jpg\n",
      "Downloading 2 image...\n",
      "https://listings-prod.tcimg.net/listings/160868/39/79/5FNYF6H39NB017939/XOFT2QGR7PCHAYS5ERVE3FVMXA-cr-360.jpg\n"
     ]
    },
    {
     "name": "stdout",
     "output_type": "stream",
     "text": [
      "Downloading 3 image...\n",
      "https://vrm.pics/inv/5/FNYF6H9/5MB/049578/1/spincar/a0a724258a744c9bae376a1fbc547405_0.jpg?width=400\n",
      "Downloading 4 image...\n",
      "https://pictures.dealer.com/d/dchhondaoxnard/1951/f01c96300fdac9c17da94c6c2073d4f7x.jpg?impolicy=downsize_bkpt&imdensity=1&w=520\n"
     ]
    },
    {
     "name": "stdout",
     "output_type": "stream",
     "text": [
      "Downloading 5 image...\n",
      "https://di-uploads-pod14.dealerinspire.com/hondaeastcincy/uploads/2019/11/BEE-HONCIN-GR-SP-1911-12.jpg\n"
     ]
    },
    {
     "name": "stdout",
     "output_type": "stream",
     "text": [
      "Downloading 6 image...\n",
      "https://content.homenetiol.com/2000157/2065512/0x0/722c542aa083497ea1bc06e376ce4bbe.jpg\n",
      "Downloading 7 image...\n",
      "https://pictures.dealer.com/n/normreeveshondasuperstorerichlandhi/1012/05d9cabb135bc5cc12342b96bb6b90d6x.jpg?impolicy=downsize_bkpt&imdensity=1&w=520\n"
     ]
    },
    {
     "name": "stdout",
     "output_type": "stream",
     "text": [
      "Downloading 8 image...\n",
      "https://www.ultimatespecs.com/cargallery/939/11118/w400_Honda-(North-America)-Pilot-2003-8.jpg\n"
     ]
    },
    {
     "name": "stdout",
     "output_type": "stream",
     "text": [
      "Downloading 9 image...\n",
      "https://carfax-img.vast.com/carfax/v2/-2112116106325382844/1/344x258\n",
      "Downloading 10 image...\n",
      "https://i.ytimg.com/vi/jJ0BVDgmbns/maxresdefault.jpg\n",
      "Downloading 11 image...\n",
      "https://www.autoparkhonda.com/inventoryphotos/233/5fnyf6h99kb015236/ip/thumbs/1.jpg?width=320\n"
     ]
    },
    {
     "name": "stdout",
     "output_type": "stream",
     "text": [
      "Downloading 12 image...\n",
      "https://di-uploads-pod1.dealerinspire.com/verneidehondasiouxcity/uploads/2021/06/New-Honda-Pilot-Black-Edition-Exterior-Features-Image.jpg\n",
      "Downloading 13 image...\n",
      "https://pictures.dealer.com/l/lithiacurryhonda/0493/d77aec85225b767c0b64d5b3b10a89bcx.jpg?impolicy=downsize_bkpt&imdensity=1&w=520\n"
     ]
    },
    {
     "name": "stdout",
     "output_type": "stream",
     "text": [
      "Downloading 14 image...\n",
      "https://www.cnet.com/a/img/resize/dd17ee4363625ba1cc9a492162cdaabfcb216845/hub/2010/08/03/01e77252-bb79-11e2-8a8e-0291187978f3/33730978-2-1333-OVR-1.jpg?auto=webp&width=768\n"
     ]
    },
    {
     "name": "stdout",
     "output_type": "stream",
     "text": [
      "Downloading 15 image...\n",
      "https://s3.us-east-2.amazonaws.com/dealer-inspire-vps-vehicle-images/11001857/thumbnails/large/5FNYF6H26NB055779/f46ea631e742d43841daf2c14a903437.jpg\n"
     ]
    },
    {
     "name": "stdout",
     "output_type": "stream",
     "text": [
      "Downloading 16 image...\n",
      "https://mercury.bid.cars/1-44881841/2020-Honda-Pilot-5FNYF5H57LB002476-1.jpg\n"
     ]
    },
    {
     "name": "stdout",
     "output_type": "stream",
     "text": [
      "Downloading 17 image...\n",
      "https://pictures.dealer.com/d/darrellwaltriphonda/0331/5485462cbefde6c37f41ae2ebf7ebf30x.jpg?impolicy=downsize&w=300\n"
     ]
    },
    {
     "name": "stdout",
     "output_type": "stream",
     "text": [
      "Downloading 18 image...\n",
      "https://s3.us-east-2.amazonaws.com/dealer-inspire-vps-vehicle-images/18003629/thumbnails/large/5FNYF6H67NB029694/5b6072d5d2e2f4ae7968b9451e6f8446.jpg\n"
     ]
    },
    {
     "name": "stdout",
     "output_type": "stream",
     "text": [
      "Downloading 19 image...\n",
      "https://content.homenetiol.com/330x215/a11c04b15fc84cbdb124f9603461082f.jpg\n",
      "Downloading 20 image...\n",
      "https://othonda.sfo2.digitaloceanspaces.com/2022/Pilot/MY20-pilot-int-gallery-thumb-phone-charge-1400-1x_result.jpg\n",
      "Downloading 21 image...\n",
      "https://s3.us-east-2.amazonaws.com/dealer-inspire-vps-vehicle-images/18003221/thumbnails/large/5FNYF6H05NB055545/4eb9e503fe48cf19a43457f13efab04f.jpg\n"
     ]
    },
    {
     "name": "stdout",
     "output_type": "stream",
     "text": [
      "Downloading 22 image...\n",
      "https://i.ytimg.com/vi/uMtOcKK6I4o/maxresdefault.jpg\n",
      "Downloading 23 image...\n",
      "https://pictures.dealer.com/h/hughwhitehondacolumbus/0658/753d27cec158d6e3192a9960c2905ff2x.jpg\n"
     ]
    },
    {
     "name": "stdout",
     "output_type": "stream",
     "text": [
      "Downloading 24 image...\n",
      "https://jimcolemanhonda.com/inventoryphotos/12/5fnyf6h9xnb005450/ip/8.jpg?height=400\n",
      "Downloading 25 image...\n",
      "https://mpop-prod-primary.s3.amazonaws.com/mohawk-honda-east-glenville-ny/img/624e83cfb330c-image-1.jpg\n"
     ]
    },
    {
     "name": "stdout",
     "output_type": "stream",
     "text": [
      "Downloading 26 image...\n",
      "https://di-uploads-pod9.dealerinspire.com/garberhondaredesign/uploads/2021/04/New-Honda-Pilot-Interior-Features-Overview-Rochester-NY.jpg\n",
      "Downloading 27 image...\n",
      "https://static.cargurus.com/images/forsale/2022/06/05/03/02/2022_honda_pilot-pic-4820180068733810260-1024x768.jpeg\n"
     ]
    },
    {
     "name": "stdout",
     "output_type": "stream",
     "text": [
      "Downloading 28 image...\n",
      "https://cdn-ds.com/media/sz_216244/853/Landing_page/2022_Pliot/INTERIOR.jpg\n"
     ]
    },
    {
     "name": "stdout",
     "output_type": "stream",
     "text": [
      "Downloading 29 image...\n",
      "https://content.homenetiol.com/698/2163991/640x480/0a935eecc51b4ccfa691f36acf0f2ff2.jpg\n",
      "Downloading 30 image...\n",
      "https://content.homenetiol.com/2000157/2065512/0x0/f70fde22354a47e1a42ad15b47d76f44.jpg\n"
     ]
    },
    {
     "name": "stdout",
     "output_type": "stream",
     "text": [
      "Downloading 31 image...\n",
      "https://vrm.pics/inv/5/FNYF5H9/2HB/014786/1/spincar/d5b9b3ec65fb446caad32dcf1294c550_0.jpg?width=400\n"
     ]
    },
    {
     "name": "stdout",
     "output_type": "stream",
     "text": [
      "Downloading 32 image...\n",
      "https://platform.cstatic-images.com/large/in/v2/b17a8ee2-1fa9-5503-9ade-0e9b2a32d881/b421de98-f9e7-46fe-a91e-4643f9bdfd68/VE72KF9rUTifuEOoa1PU7w_Ctv0.jpg\n"
     ]
    },
    {
     "name": "stdout",
     "output_type": "stream",
     "text": [
      "Downloading 33 image...\n",
      "https://www.motorbiscuit.com/wp-content/uploads/2022/05/Front-angle-view-of-Lunar-Silver-Metallic-2022-Honda-CR-V-1024x576.jpg\n",
      "Downloading 34 image...\n",
      "https://i.ytimg.com/vi/_ba9owX66hw/maxresdefault.jpg\n"
     ]
    },
    {
     "name": "stdout",
     "output_type": "stream",
     "text": [
      "Downloading 35 image...\n",
      "https://pictures.dealer.com/g/gillmanhondahoustonsw/0819/2338a494d8f2fe7590550e4a7611dafax.jpg\n"
     ]
    },
    {
     "name": "stdout",
     "output_type": "stream",
     "text": [
      "Downloading 36 image...\n",
      "https://upload.wikimedia.org/wikipedia/commons/c/c4/%2706-%2708_Honda_Pilot.jpg\n",
      "Downloading 37 image...\n",
      "https://di-uploads-pod6.dealerinspire.com/bianchihonda/uploads/2020/08/21Pilot_SE_blackglossroofrails.png\n"
     ]
    },
    {
     "name": "stdout",
     "output_type": "stream",
     "text": [
      "Downloading 38 image...\n",
      "https://pictures.dealer.com/l/lithiacurryhonda/0020/8fd0bbaf64b397bb3ea3582d5e559c46x.jpg?impolicy=downsize_bkpt&imdensity=1&w=520\n",
      "Downloading 39 image...\n",
      "https://dealer-content.s3.amazonaws.com/images/models/honda/2022/pilot/mpg/gp1/tank-size.png\n"
     ]
    },
    {
     "name": "stdout",
     "output_type": "stream",
     "text": [
      "Downloading 40 image...\n",
      "https://cdn.ebizautos.media/used-2019-honda-pilot-exlawd-8506-21428786-1-400.jpg\n"
     ]
    },
    {
     "name": "stdout",
     "output_type": "stream",
     "text": [
      "Downloading 41 image...\n",
      "https://s.aolcdn.com/images/dims?client=fh7w6q744eiognjk&signature=27ed92d5132997858b4ec4cfdc93143eb501f694&image_uri=https%3A%2F%2Fs.aolcdn.com%2Fos%2Fab%2F_cms%2F2021%2F08%2F01175917%2F2022_honda_pilot_025.jpg&thumbnail=480%2C270&quality=80\n",
      "Downloading 42 image...\n",
      "https://s3.us-east-2.amazonaws.com/dealer-inspire-vps-vehicle-images/18003306/thumbnails/large/5FNYF6H62NB051103/f1c5cdc293d0977c2e975a718eaf90ec.jpg\n"
     ]
    },
    {
     "name": "stdout",
     "output_type": "stream",
     "text": [
      "Downloading 43 image...\n",
      "https://s3.us-east-2.amazonaws.com/dealer-inspire-vps-vehicle-images/18003221/thumbnails/large/5FNYF6H23NB057635/312299b4a1157e6ce78baf59cde63c1a.jpg\n"
     ]
    },
    {
     "name": "stdout",
     "output_type": "stream",
     "text": [
      "Downloading 44 image...\n",
      "https://othonda.sfo2.digitaloceanspaces.com/2022/Pilot/MY20-pilot-int-gallery-thumb-black-edition-interior-1400-1x_result.jpg\n",
      "Downloading 45 image...\n",
      "https://di-uploads-pod31.dealerinspire.com/gwinnettplacehonda/uploads/2020/09/2021-Honda-Pilot-EX-L-Duluth-GA-Cargo.jpg\n"
     ]
    },
    {
     "name": "stdout",
     "output_type": "stream",
     "text": [
      "Downloading 46 image...\n",
      "https://m.media-amazon.com/images/I/51shQFoQvOL._AC_.jpg\n"
     ]
    },
    {
     "name": "stdout",
     "output_type": "stream",
     "text": [
      "Downloading 47 image...\n",
      "https://static.cargurus.com/images/forsale/2022/06/02/21/08/2007_honda_pilot-pic-4768076743928881450-1024x768.jpeg?io=true&width=640&height=480&fit=bounds&format=jpg&auto=webp\n"
     ]
    },
    {
     "name": "stdout",
     "output_type": "stream",
     "text": [
      "Downloading 48 image...\n",
      "https://dtstockphotos.azureedge.net/stockitems/1190176694/bea1656c-5814-4448-98d2-85dd6c4958c7_Medium.jpg\n",
      "Downloading 49 image...\n",
      "https://s3.amazonaws.com/fzautomotive/dealers/601788a5ebade.jpg\n"
     ]
    },
    {
     "name": "stdout",
     "output_type": "stream",
     "text": [
      "Downloading 50 image...\n",
      "https://pictures.dealer.com/d/darrellwaltriphonda/1226/1d4b070cc72e787e72846d449d053bccx.jpg?impolicy=downsize&w=300\n"
     ]
    },
    {
     "name": "stdout",
     "output_type": "stream",
     "text": [
      "Downloading 51 image...\n",
      "https://content.homenetiol.com/2000157/2065512/0x0/beef9baf7e8d49a881f24bf386e2c415.jpg\n",
      "Downloading 52 image...\n",
      "https://assets.local-car-finder.com/images/14476/14476_st1280_051.png\n",
      "Error downloading image\n",
      "Downloading 53 image...\n",
      "https://lh5.googleusercontent.com/VdR9Sd9nZeIOJixGavXx5mropREQrYQ2UJWvCIIjuXeIeQA5YDMaVmLwNJpR7MkSnEwe18UXZtmd8WULuK0ppAxXgEirzwH2mL2MUxjpTNFbgt9jFS26INBSviT_6rhk8_T9zBdMgDF2KM9fnQ\n"
     ]
    },
    {
     "name": "stdout",
     "output_type": "stream",
     "text": [
      "Downloading 54 image...\n",
      "https://cdn.motor1.com/images/mgl/Am4GW/s1/2015-543994-2016-honda-pilot-live-in-chicago1.webp\n",
      "Downloading 55 image...\n",
      "https://cdn.ebizautos.media/used-2019-honda-pilot-exawd-8506-21412535-1-400.jpg\n"
     ]
    },
    {
     "name": "stdout",
     "output_type": "stream",
     "text": [
      "Downloading 56 image...\n",
      "https://media.ed.edmunds-media.com/for-sale/7a-5fnyf6h23mb044740/img-1-600x400.jpg\n"
     ]
    },
    {
     "name": "stdout",
     "output_type": "stream",
     "text": [
      "Error downloading image\n",
      "Downloading 57 image...\n",
      "https://s3.amazonaws.com/fzautomotive/dealers/5fb5046634669.jpg\n"
     ]
    },
    {
     "name": "stdout",
     "output_type": "stream",
     "text": [
      "Downloading 58 image...\n",
      "https://images.mktw.net/im-467563?width=1280&size=1\n"
     ]
    },
    {
     "name": "stdout",
     "output_type": "stream",
     "text": [
      "Downloading 59 image...\n",
      "https://i.ytimg.com/vi/PFunvH9GSMA/maxresdefault.jpg\n",
      "Downloading 60 image...\n",
      "https://content.homenetiol.com/2000157/2065512/0x0/34396c3dbc6142adbf0def689d977a30.jpg\n"
     ]
    },
    {
     "name": "stdout",
     "output_type": "stream",
     "text": [
      "Downloading 61 image...\n",
      "https://content.homenetiol.com/698/2163991/640x480/6b31724588984fe1bf1eb31fd78d4ea9.jpg\n",
      "Downloading 62 image...\n",
      "https://i.ytimg.com/vi/ot95zXXaEGo/maxresdefault.jpg\n"
     ]
    },
    {
     "name": "stdout",
     "output_type": "stream",
     "text": [
      "Downloading 63 image...\n",
      "https://www.cnet.com/a/img/resize/3fe6c6e53c8ad6c008b878879c5a6b84e435859d/2018/11/05/24970d85-2447-4b33-be4b-4dcbf78669bb/2019-honda-pilot-elite-1.jpg?auto=webp&fit=crop&height=299&width=532\n",
      "Downloading 64 image...\n",
      "https://www.cnet.com/a/img/resize/d775e6089822460ca69cb4de0d78f99529ada98f/2018/11/05/7613c624-3a34-4135-a3ca-cb29205d3599/2019-honda-pilot-elite-2.jpg?auto=webp&fit=crop&height=299&width=532\n",
      "Downloading 65 image...\n",
      "https://images.hgmsites.net/hug/2023-honda-pilot-spy-shots--photo-credits-baldauf-sb-medien_100784208_h.jpg\n"
     ]
    }
   ],
   "source": [
    "image_name = \"Honda Pilot\"\n",
    "\n",
    "\n",
    "import os, urllib.request, json  # json for pretty output\n",
    "from serpapi import GoogleSearch\n",
    "\n",
    "\n",
    "def get_google_images():\n",
    "    params = {\n",
    "        \"api_key\": \"f8ce6399229d5a5c2ef4251ef1305ff03355adf7161ea7a6e2c4803361cbab9f\",\n",
    "        \"engine\": \"google\",\n",
    "        \"q\": image_name,\n",
    "        \"tbm\": \"isch\",\n",
    "        \"ijn\": \"3\"\n",
    "    }\n",
    "\n",
    "    search = GoogleSearch(params)\n",
    "    results = search.get_dict()\n",
    "\n",
    "    try:\n",
    "      json.dumps(results[\"images_results\"], indent=2, ensure_ascii=False)\n",
    "    except: \n",
    "      print(\"No images found\")\n",
    "      return\n",
    "    # save files to /SerpApi_Images/ if it doesn't exist create the folder\n",
    "    if not os.path.exists(\"./SerpApi_Images3/\"):\n",
    "        os.makedirs(\"./SerpApi_Images3/\")\n",
    "\n",
    "    # -----------------------\n",
    "    # Downloading images\n",
    "\n",
    "    opener = urllib.request.build_opener()\n",
    "    opener.addheaders = [\n",
    "        (\n",
    "            \"User-Agent\",\n",
    "            \"Mozilla/5.0 (Windows NT 10.0; Win64; x64) AppleWebKit/537.36 (KHTML, like Gecko) Chrome/70.0.3538.102 Safari/537.36 Edge/18.19582\",\n",
    "        )\n",
    "    ]\n",
    "    urllib.request.install_opener(opener)\n",
    "\n",
    "    for index, image in enumerate(results[\"images_results\"]):\n",
    "\n",
    "        print(f\"Downloading {index} image...\")\n",
    "\n",
    "        filepath = os.path.join(\"./SerpApi_Images3/\", params[\"q\"] + str(index) + \".jpg\")\n",
    "        print(image[\"original\"])\n",
    "\n",
    "        try:\n",
    "          response = urllib.request.urlopen(image[\"original\"], timeout=10)\n",
    "        except:\n",
    "          print(\"Error downloading image\")\n",
    "          continue\n",
    "        image = response.read()\n",
    "\n",
    "        with open(filepath, \"wb\") as file:\n",
    "            file.write(image)\n",
    "\n",
    "get_google_images()"
   ]
  },
  {
   "cell_type": "code",
   "execution_count": 0,
   "metadata": {
    "collapsed": false
   },
   "outputs": [
   ],
   "source": [
   ]
  },
  {
   "cell_type": "code",
   "execution_count": 0,
   "metadata": {
    "collapsed": false
   },
   "outputs": [
   ],
   "source": [
   ]
  },
  {
   "cell_type": "code",
   "execution_count": 0,
   "metadata": {
    "collapsed": false
   },
   "outputs": [
   ],
   "source": [
   ]
  },
  {
   "cell_type": "code",
   "execution_count": 0,
   "metadata": {
    "collapsed": false
   },
   "outputs": [
   ],
   "source": [
   ]
  }
 ],
 "metadata": {
  "kernelspec": {
   "display_name": "Python (cv_env)",
   "language": "python",
   "metadata": {
    "debugger": true
   },
   "name": "cv_env",
   "resource_dir": "/projects/bf0b3665-37be-49f4-895a-fd6a70d9dc4a/.local/share/jupyter/kernels/cv_env"
  },
  "language_info": {
   "codemirror_mode": {
    "name": "ipython",
    "version": 3
   },
   "file_extension": ".py",
   "mimetype": "text/x-python",
   "name": "python",
   "nbconvert_exporter": "python",
   "pygments_lexer": "ipython3",
   "version": "3.9.12"
  }
 },
 "nbformat": 4,
 "nbformat_minor": 4
}