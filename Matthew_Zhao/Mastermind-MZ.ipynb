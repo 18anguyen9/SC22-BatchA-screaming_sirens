{
 "cells": [
  {
   "cell_type": "markdown",
   "metadata": {
    "collapsed": false,
    "id": "FIl5ePMRnNbH"
   },
   "source": [
    "# worked with Aiden Jin, see their file instead\n",
    "\n",
    "[https://cocalc10.ai\\-camp.dev/projects/bf0b3665\\-37be\\-49f4\\-895a\\-fd6a70d9dc4a/files/Aiden\\_Jin/Mastermind\\-AidenJin\\-MatthewZhao.ipynb?session=default](https://cocalc10.ai-camp.dev/projects/bf0b3665-37be-49f4-895a-fd6a70d9dc4a/files/Aiden_Jin/Mastermind-AidenJin-MatthewZhao.ipynb?session=default)\n",
    "\n"
   ]
  }
 ],
 "metadata": {
  "colab": {
   "name": "Mastermind.ipynb",
   "provenance": [
   ]
  },
  "kernelspec": {
   "display_name": "Python (cv_env)",
   "language": "python",
   "metadata": {
    "debugger": true
   },
   "name": "cv_env",
   "resource_dir": "/projects/bf0b3665-37be-49f4-895a-fd6a70d9dc4a/.local/share/jupyter/kernels/cv_env"
  },
  "language_info": {
   "codemirror_mode": {
    "name": "ipython",
    "version": 3
   },
   "file_extension": ".py",
   "mimetype": "text/x-python",
   "name": "python",
   "nbconvert_exporter": "python",
   "pygments_lexer": "ipython3",
   "version": "3.9.12"
  }
 },
 "nbformat": 4,
 "nbformat_minor": 4
}